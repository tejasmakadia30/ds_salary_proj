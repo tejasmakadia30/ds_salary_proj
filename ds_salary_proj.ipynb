{
 "cells": [
  {
   "cell_type": "markdown",
   "metadata": {},
   "source": [
    "# Importing the required modules and raw datafile "
   ]
  },
  {
   "cell_type": "code",
   "execution_count": 81,
   "metadata": {},
   "outputs": [],
   "source": [
    "import pandas as pd\n",
    "import numpy as np\n",
    "df = pd.read_csv(\"glassdoor_jobs.csv\")"
   ]
  },
  {
   "cell_type": "markdown",
   "metadata": {},
   "source": [
    "# Data Cleaning"
   ]
  },
  {
   "cell_type": "code",
   "execution_count": 82,
   "metadata": {},
   "outputs": [],
   "source": [
    "# salary parsing\n",
    "\n",
    "df['hourly'] = df['Salary Estimate'].apply(lambda x: 1 if 'per hour' in x.lower() else 0)\n",
    "df['Employer_provider'] = df['Salary Estimate'].apply(lambda x: 1 if 'employer provided salary' in x.lower() else 0)\n",
    "df = df[df['Salary Estimate'] != '-1']\n",
    "salary = df['Salary Estimate'].apply(lambda x: x.split('(')[0])\n",
    "minus_kd = salary.apply(lambda x: x.replace('K','').replace('$','').replace(':',''))\n",
    "\n",
    "min_hr = minus_kd.apply(lambda x: x.lower().replace('per hour','').replace('employer provided salary',''))\n",
    "df['min_salary'] = min_hr.apply(lambda x: int(x.split('-')[0]))\n",
    "df['max_salary'] = min_hr.apply(lambda x: int(x.split('-')[1]))\n",
    "df['avg_salary'] = (df.min_salary+df.max_salary)/2\n",
    "\n",
    "# company name txt only\n",
    "\n",
    "df['company_txt'] = df.apply(lambda x: x['Company Name'] if x['Rating']<0 else x['Company Name'][:-4], axis = 1)\n",
    "\n",
    "# state field\n",
    "\n",
    "df['jobs_state'] = df['Location'].apply(lambda x: x.split(',')[1])\n",
    "df['same_state'] = df.apply(lambda x: 1 if x.Location == x.Headquarters else 0, axis =1 )\n",
    "\n",
    "# age of company\n",
    "\n",
    "df['age'] = df.Founded.apply(lambda x: x if x<1 else 2020-x)\n",
    "\n",
    "# parsing of job description (python,etc.)\n",
    "\n",
    "df['python_des.'] = df['Job Description'].apply(lambda x: 1 if 'python' in x.lower() else 0)\n",
    "df['R_studio_des.'] = df[\"Job Description\"].apply(lambda x: 1 if 'r studio' in x.lower() else 0)\n",
    "df['spark_des.'] = df['Job Description'].apply(lambda x: 1 if 'spark' in x.lower() else 0)\n",
    "df['aws_des.'] = df['Job Description'].apply(lambda x: 1 if 'aws' in x.lower() else 0)\n",
    "df['excel_des.'] = df['Job Description'].apply(lambda x: 1 if 'excel' in x.lower() else 0)\n",
    "\n",
    "df_out = df.drop(['Unnamed: 0'],axis = 1)\n",
    "\n",
    "df_out.to_csv('salary_data_cleaned.csv',index=False)\n",
    "\n"
   ]
  },
  {
   "cell_type": "code",
   "execution_count": null,
   "metadata": {},
   "outputs": [],
   "source": []
  }
 ],
 "metadata": {
  "kernelspec": {
   "display_name": "Python 3",
   "language": "python",
   "name": "python3"
  },
  "language_info": {
   "codemirror_mode": {
    "name": "ipython",
    "version": 3
   },
   "file_extension": ".py",
   "mimetype": "text/x-python",
   "name": "python",
   "nbconvert_exporter": "python",
   "pygments_lexer": "ipython3",
   "version": "3.7.6"
  }
 },
 "nbformat": 4,
 "nbformat_minor": 4
}
